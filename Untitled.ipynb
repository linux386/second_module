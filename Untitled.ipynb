{
 "cells": [
  {
   "cell_type": "code",
   "execution_count": 17,
   "metadata": {},
   "outputs": [],
   "source": [
    "    def get_investor_trend(self):\n",
    "        url = 'http://finance.naver.com/sise/investorDealTrendDay.nhn?bizdate=2020601&sosok=&page='\n",
    "        path = 'd:\\\\investor_trend.xlsx'\n",
    "\n",
    "        date_list = []\n",
    "        private = []\n",
    "        foreign = []\n",
    "        institution = []\n",
    "\n",
    "        for i in range(1,500):\n",
    "            source = urlopen(url+ str(i)).read()\n",
    "            source = BeautifulSoup(source,'lxml')\n",
    "\n",
    "            body = source.find('body')\n",
    "            tr = body.find_all('tr')\n",
    "\n",
    "            for r in tr:\n",
    "                date = r.find('td',{'class':'date2'})\n",
    "    \n",
    "                if date != None:\n",
    "                    date = date.text.strip().replace('.','-')\n",
    "                \n",
    "                    # 날짜가 중첩되지 않으면 계속 크롤링 : \n",
    "                    if not date in date_list:\n",
    "                        date_list.append(date)\n",
    "                        #print(date)\n",
    "                \n",
    "                    # 더 이상 자료가 없어, 날짜가 중첩되면 : 크롤링 완료\n",
    "                    else:\n",
    "                        print(str(i-1) + '번째 페이지에서 크롤링 종료')\n",
    "                        df = pd.DataFrame(index = date_list)\n",
    "                        df['개인'] = private\n",
    "                        df['외국인'] = foreign\n",
    "                        df['기관'] = institution\n",
    "                    \n",
    "                        df.to_excel(path, encoding='utf-8')\n",
    "                        return df\n",
    "                \n",
    "                    td = r.find_all('td')\n",
    "        \n",
    "                    count = 0\n",
    "        \n",
    "                    # 앞에서 3개 값 '개인' , '외국인' , '기관' 만 가져온다\n",
    "                    for d in td:\n",
    "                        if count != 3:\n",
    "                            d = d.text.replace(',','')\n",
    "                        try:\n",
    "                            d = int(d)\n",
    "                    \n",
    "                            if count == 0 :\n",
    "                                private.append(d)\n",
    "                            elif count == 1 :\n",
    "                                foreign.append(d)\n",
    "                            else:\n",
    "                                institution.append(d)\n",
    "                        \n",
    "                            count += 1\n",
    "                    \n",
    "                        except:\n",
    "                            count = count\n",
    "\n",
    "            print(str(i) + '번째 페이지 크롤링 완료')"
   ]
  },
  {
   "cell_type": "code",
   "execution_count": 18,
   "metadata": {},
   "outputs": [],
   "source": [
    "# 랜덤에 의해 똑같은 결과를 재현하도록 시드 설정\n",
    "# 하이퍼파라미터를 튜닝하기 위한 용도(흔들리면 무엇때문에 좋아졌는지 알기 어려움)\n",
    "tf.reset_default_graph()\n",
    "tf.set_random_seed(777)"
   ]
  },
  {
   "cell_type": "code",
   "execution_count": 19,
   "metadata": {},
   "outputs": [],
   "source": [
    "# Standardization\n",
    "def data_standardization(x):\n",
    "    x_np = np.asarray(x)\n",
    "    return (x_np - x_np.mean()) / x_np.std()\n",
    "\n",
    "# 너무 작거나 너무 큰 값이 학습을 방해하는 것을 방지하고자 정규화한다\n",
    "# x가 양수라는 가정하에 최소값과 최대값을 이용하여 0~1사이의 값으로 변환\n",
    "# Min-Max scaling\n",
    "def min_max_scaling(x):\n",
    "    x_np = np.asarray(x)\n",
    "    return (x_np - x_np.min()) / (x_np.max() - x_np.min() + 1e-7) # 1e-7은 0으로 나누는 오류 예방차원\n",
    "\n",
    "# 정규화된 값을 원래의 값으로 되돌린다\n",
    "# 정규화하기 이전의 org_x값과 되돌리고 싶은 x를 입력하면 역정규화된 값을 리턴한다\n",
    "def reverse_min_max_scaling(org_x, x):\n",
    "    org_x_np = np.asarray(org_x)\n",
    "    x_np = np.asarray(x)\n",
    "    return (x_np * (org_x_np.max() - org_x_np.min() + 1e-7)) + org_x_np.min()"
   ]
  },
  {
   "cell_type": "code",
   "execution_count": 20,
   "metadata": {},
   "outputs": [],
   "source": [
    "# 하이퍼파라미터\n",
    "input_data_column_cnt = 6  # 입력데이터의 컬럼 개수(Variable 개수)\n",
    "output_data_column_cnt = 1 # 결과데이터의 컬럼 개수\n",
    "\n",
    "seq_length = 28            # 1개 시퀀스의 길이(시계열데이터 입력 개수)\n",
    "rnn_cell_hidden_dim = 20   # 각 셀의 (hidden)출력 크기\n",
    "forget_bias = 1.0          # 망각편향(기본값 1.0)\n",
    "num_stacked_layers = 2     # stacked LSTM layers 개수\n",
    "keep_prob = 1.0            # dropout할 때 keep할 비율\n",
    "\n",
    "epoch_num = 1000           # 에폭 횟수(학습용전체데이터를 몇 회 반복해서 학습할 것인가 입력)\n",
    "learning_rate = 0.01       # 학습률"
   ]
  },
  {
   "cell_type": "code",
   "execution_count": 21,
   "metadata": {},
   "outputs": [
    {
     "name": "stdout",
     "output_type": "stream",
     "text": [
      "<class 'pandas.core.frame.DataFrame'>\n",
      "RangeIndex: 10548 entries, 0 to 10547\n",
      "Data columns (total 27 columns):\n",
      "일자            10548 non-null datetime64[ns]\n",
      "현재가           10548 non-null int64\n",
      "등락폭           9082 non-null float64\n",
      "Unnamed: 3    10548 non-null int64\n",
      "등락률           10548 non-null float64\n",
      "거래량           10548 non-null int64\n",
      "금액(백만)        10548 non-null object\n",
      "체결강도          10548 non-null float64\n",
      "매수비율          10548 non-null float64\n",
      "외국인보유율        10548 non-null float64\n",
      "외국인보유수량       10548 non-null int64\n",
      "외국인보유증감       10548 non-null int64\n",
      "시가총액(억)       10548 non-null int64\n",
      "시가            10548 non-null int64\n",
      "고가            10548 non-null int64\n",
      "저가            10548 non-null int64\n",
      "개인순매수         10548 non-null int64\n",
      "외인계순매수        10548 non-null int64\n",
      "기관순매수         10548 non-null int64\n",
      "프로그램          10548 non-null int64\n",
      "외국계           10548 non-null int64\n",
      "신용(융자)증감      10548 non-null int64\n",
      "자사주           10548 non-null int64\n",
      "공매도수량         10548 non-null int64\n",
      "대차수량          10548 non-null int64\n",
      "종합지수          10548 non-null float64\n",
      "상장주식수         10548 non-null int64\n",
      "dtypes: datetime64[ns](1), float64(6), int64(19), object(1)\n",
      "memory usage: 2.2+ MB\n",
      "stock_info.shape:  (10548, 6)\n",
      "stock_info[0]:  [0.0000e+00 0.0000e+00 0.0000e+00 0.0000e+00 7.8000e+01 2.7442e+05]\n"
     ]
    }
   ],
   "source": [
    "# 데이터를 로딩한다.\n",
    "stock_file_name = 'd:\\\\data\\\\삼성전자_daily.xlsx' # 아마존 주가데이터 파일\n",
    "#encoding = 'euc-kr' # 문자 인코딩\n",
    "#names = ['Date','Open','High','Low','Close','Adj Close','Volume']\n",
    "#raw_dataframe = pd.read_csv(stock_file_name, names=names) #판다스이용 csv파일 로딩\n",
    "raw_dataframe = pd.read_excel(stock_file_name) #판다스이용 csv파일 로딩\n",
    "#raw_dataframe = raw_dataframe.values[::-1]\n",
    "raw_dataframe.info() # 데이터 정보 출력\n",
    "\n",
    "# raw_dataframe.drop('Date', axis=1, inplace=True) # 시간열을 제거하고 dataframe 재생성하지 않기\n",
    "#del raw_dataframe['Date'] # 위 줄과 같은 효과\n",
    "\n",
    "stock_info = raw_dataframe[['등락률','개인순매수','외인계순매수','기관순매수','현재가','거래량']].values # 금액&거래량 문자열을 부동소수점형으로 변환한다\n",
    "stock_info = stock_info[::-1]\n",
    "print(\"stock_info.shape: \", stock_info.shape)\n",
    "print(\"stock_info[0]: \", stock_info[0])"
   ]
  },
  {
   "cell_type": "code",
   "execution_count": 58,
   "metadata": {},
   "outputs": [
    {
     "data": {
      "text/plain": [
       "array([[Timestamp('1980-01-05 00:00:00'), 80, 5, ..., '-', 100.15, 0],\n",
       "       [Timestamp('1980-01-12 00:00:00'), 89, 6, ..., '-', 103.64, 0],\n",
       "       [Timestamp('1980-01-19 00:00:00'), 89, 5, ..., '-', 101.15, 0],\n",
       "       ...,\n",
       "       [Timestamp('2019-02-22 00:00:00'), 47150, 6, ..., '-', 2230.5,\n",
       "        5969782550],\n",
       "       [Timestamp('2019-02-28 00:00:00'), 45100, 4, ..., '-', 2195.44,\n",
       "        5969782550],\n",
       "       [Timestamp('2019-03-08 00:00:00'), 43800, 4, ..., '-', 2137.44,\n",
       "        5969782550]], dtype=object)"
      ]
     },
     "execution_count": 58,
     "metadata": {},
     "output_type": "execute_result"
    }
   ],
   "source": [
    "raw_dataframe.values[::-1]"
   ]
  },
  {
   "cell_type": "code",
   "execution_count": 22,
   "metadata": {},
   "outputs": [
    {
     "name": "stdout",
     "output_type": "stream",
     "text": [
      "price.shape:  (10548, 5)\n",
      "price[0]:  [ 0.  0.  0.  0. 78.]\n",
      "norm_price[0]:  [0.50523812 0.50523812 0.50523812 0.50523812 0.50523979]\n",
      "====================================================================================================\n",
      "volume.shape:  (10548, 1)\n",
      "volume[0]:  [274420.]\n",
      "norm_volume[0]:  [0.00080469]\n",
      "====================================================================================================\n",
      "x.shape:  (10548, 6)\n",
      "x[0]:  [0.50523812 0.50523812 0.50523812 0.50523812 0.50523979 0.00080469]\n",
      "x[-1]:  [0.50523812 0.51747785 0.48986987 0.50968894 0.50617519 0.02266429]\n",
      "====================================================================================================\n",
      "y[0]:  [0.50523979]\n",
      "y[-1]:  [0.50617519]\n"
     ]
    }
   ],
   "source": [
    "# 데이터 전처리\n",
    "# 가격과 거래량 수치의 차이가 많아나서 각각 별도로 정규화한다\n",
    "\n",
    "# 가격형태 데이터들을 정규화한다\n",
    "# ['Open','High','Low','Close','Adj Close','Volume']에서 'Adj Close'까지 취함\n",
    "# 곧, 마지막 열 Volume를 제외한 모든 열\n",
    "price = stock_info[:,:-1]\n",
    "norm_price = min_max_scaling(price) # 가격형태 데이터 정규화 처리\n",
    "print(\"price.shape: \", price.shape)\n",
    "print(\"price[0]: \", price[0])\n",
    "print(\"norm_price[0]: \", norm_price[0])\n",
    "print(\"=\"*100) # 화면상 구분용\n",
    "\n",
    "# 거래량형태 데이터를 정규화한다\n",
    "# ['Open','High','Low','Close','Adj Close','Volume']에서 마지막 'Volume'만 취함\n",
    "# [:,-1]이 아닌 [:,-1:]이므로 주의하자! 스칼라가아닌 벡터값 산출해야만 쉽게 병합 가능\n",
    "volume = stock_info[:,-1:]\n",
    "norm_volume = min_max_scaling(volume) # 거래량형태 데이터 정규화 처리\n",
    "print(\"volume.shape: \", volume.shape)\n",
    "print(\"volume[0]: \", volume[0])\n",
    "print(\"norm_volume[0]: \", norm_volume[0])\n",
    "print(\"=\"*100) # 화면상 구분용\n",
    "\n",
    "# 행은 그대로 두고 열을 우측에 붙여 합친다\n",
    "x = np.concatenate((norm_price, norm_volume), axis=1) # axis=1, 세로로 합친다\n",
    "print(\"x.shape: \", x.shape)\n",
    "print(\"x[0]: \", x[0])    # x의 첫 값\n",
    "print(\"x[-1]: \", x[-1])  # x의 마지막 값\n",
    "print(\"=\"*100) # 화면상 구분용\n",
    "\n",
    "y = x[:, [-2]] # 타켓은 주식 종가이다\n",
    "print(\"y[0]: \",y[0])     # y의 첫 값\n",
    "print(\"y[-1]: \",y[-1])   # y의 마지막 값"
   ]
  },
  {
   "cell_type": "code",
   "execution_count": 23,
   "metadata": {},
   "outputs": [
    {
     "name": "stdout",
     "output_type": "stream",
     "text": [
      "[[0.50523812 0.50523812 0.50523812 0.50523812 0.50523979 0.00080469]\n",
      " [0.50523812 0.50523812 0.50523812 0.50523812 0.50523983 0.00240797]\n",
      " [0.50523812 0.50523812 0.50523812 0.50523812 0.50523992 0.00369609]\n",
      " [0.50523812 0.50523812 0.50523812 0.50523812 0.50524002 0.00822442]\n",
      " [0.50523812 0.50523812 0.50523812 0.50523812 0.50524011 0.00760943]\n",
      " [0.50523812 0.50523812 0.50523812 0.50523812 0.50524019 0.01003881]\n",
      " [0.50523812 0.50523812 0.50523812 0.50523812 0.50524007 0.00781137]\n",
      " [0.50523812 0.50523812 0.50523812 0.50523812 0.50524002 0.00725144]\n",
      " [0.50523812 0.50523812 0.50523812 0.50523812 0.50523996 0.00805308]\n",
      " [0.50523812 0.50523812 0.50523812 0.50523812 0.50523987 0.00387968]\n",
      " [0.50523812 0.50523812 0.50523812 0.50523812 0.50523994 0.00490773]\n",
      " [0.50523812 0.50523812 0.50523812 0.50523812 0.50523998 0.00323714]\n",
      " [0.50523812 0.50523812 0.50523812 0.50523812 0.50523998 0.00500258]\n",
      " [0.50523812 0.50523812 0.50523812 0.50523812 0.50524002 0.00315453]\n",
      " [0.50523812 0.50523812 0.50523812 0.50523812 0.50524007 0.0045681 ]\n",
      " [0.50523812 0.50523812 0.50523812 0.50523812 0.50524005 0.00321266]\n",
      " [0.50523812 0.50523812 0.50523812 0.50523812 0.50524007 0.00395311]\n",
      " [0.50523812 0.50523812 0.50523812 0.50523812 0.50523998 0.00475169]\n",
      " [0.50523812 0.50523812 0.50523812 0.50523812 0.50524009 0.00282714]\n",
      " [0.50523812 0.50523812 0.50523812 0.50523812 0.50524005 0.00240491]\n",
      " [0.50523812 0.50523812 0.50523812 0.50523812 0.50524005 0.00289446]\n",
      " [0.50523812 0.50523812 0.50523812 0.50523812 0.50524005 0.00453445]\n",
      " [0.50523812 0.50523812 0.50523812 0.50523812 0.50524011 0.00446407]\n",
      " [0.50523812 0.50523812 0.50523812 0.50523812 0.50524013 0.00528713]\n",
      " [0.50523812 0.50523812 0.50523812 0.50523812 0.50524007 0.00438452]\n",
      " [0.50523812 0.50523812 0.50523812 0.50523812 0.50524009 0.00212648]\n",
      " [0.50523812 0.50523812 0.50523812 0.50523812 0.50524009 0.00436311]\n",
      " [0.50523812 0.50523812 0.50523812 0.50523812 0.50524009 0.00271088]] -> [0.50524005]\n"
     ]
    }
   ],
   "source": [
    "dataX = [] # 입력으로 사용될 Sequence Data\n",
    "dataY = [] # 출력(타켓)으로 사용\n",
    "\n",
    "for i in range(0, len(y) - seq_length):\n",
    "    _x = x[i : i+seq_length]\n",
    "    _y = y[i + seq_length] # 다음 나타날 주가(정답)\n",
    "    if i is 0:\n",
    "        print(_x, \"->\", _y) # 첫번째 행만 출력해 봄\n",
    "    dataX.append(_x) # dataX 리스트에 추가\n",
    "    dataY.append(_y) # dataY 리스트에 추가"
   ]
  },
  {
   "cell_type": "code",
   "execution_count": 24,
   "metadata": {},
   "outputs": [],
   "source": [
    "# 학습용/테스트용 데이터 생성\n",
    "# 전체 70%를 학습용 데이터로 사용\n",
    "train_size = int(len(dataY) * 0.7)\n",
    "# 나머지(30%)를 테스트용 데이터로 사용\n",
    "test_size = len(dataY) - train_size\n",
    "\n",
    "# 데이터를 잘라 학습용 데이터 생성\n",
    "trainX = np.array(dataX[0:train_size])\n",
    "trainY = np.array(dataY[0:train_size])\n",
    "\n",
    "# 데이터를 잘라 테스트용 데이터 생성\n",
    "testX = np.array(dataX[train_size:len(dataX)])\n",
    "testY = np.array(dataY[train_size:len(dataY)])"
   ]
  },
  {
   "cell_type": "code",
   "execution_count": 25,
   "metadata": {},
   "outputs": [
    {
     "name": "stdout",
     "output_type": "stream",
     "text": [
      "X:  Tensor(\"Placeholder:0\", shape=(?, 28, 6), dtype=float32)\n",
      "Y:  Tensor(\"Placeholder_1:0\", shape=(?, 1), dtype=float32)\n",
      "targets:  Tensor(\"Placeholder_2:0\", shape=(?, 1), dtype=float32)\n",
      "predictions:  Tensor(\"Placeholder_3:0\", shape=(?, 1), dtype=float32)\n"
     ]
    }
   ],
   "source": [
    "# 텐서플로우 플레이스홀더 생성\n",
    "# 입력 X, 출력 Y를 생성한다\n",
    "X = tf.placeholder(tf.float32, [None, seq_length, input_data_column_cnt])\n",
    "print(\"X: \", X)\n",
    "Y = tf.placeholder(tf.float32, [None, 1])\n",
    "print(\"Y: \", Y)\n",
    "\n",
    "# 검증용 측정지표를 산출하기 위한 targets, predictions를 생성한다\n",
    "targets = tf.placeholder(tf.float32, [None, 1])\n",
    "print(\"targets: \", targets)\n",
    "\n",
    "predictions = tf.placeholder(tf.float32, [None, 1])\n",
    "print(\"predictions: \", predictions)"
   ]
  },
  {
   "cell_type": "code",
   "execution_count": 26,
   "metadata": {},
   "outputs": [
    {
     "name": "stdout",
     "output_type": "stream",
     "text": [
      "hypothesis:  Tensor(\"rnn/transpose_1:0\", shape=(?, 28, 20), dtype=float32)\n"
     ]
    }
   ],
   "source": [
    "# 모델(LSTM 네트워크) 생성\n",
    "def lstm_cell():\n",
    "    # LSTM셀을 생성\n",
    "    # num_units: 각 Cell 출력 크기\n",
    "    # forget_bias:  to the biases of the forget gate \n",
    "    #              (default: 1)  in order to reduce the scale of forgetting in the beginning of the training.\n",
    "    # state_is_tuple: True ==> accepted and returned states are 2-tuples of the c_state and m_state.\n",
    "    # state_is_tuple: False ==> they are concatenated along the column axis.\n",
    "    cell = tf.nn.rnn_cell.LSTMCell(num_units=rnn_cell_hidden_dim, \n",
    "                                        forget_bias=forget_bias, state_is_tuple=True, activation=tf.nn.softsign)\n",
    "    if keep_prob < 1.0:\n",
    "        cell = tf.contrib.rnn.DropoutWrapper(cell, output_keep_prob=keep_prob)\n",
    "    return cell\n",
    "\n",
    "# num_stacked_layers개의 층으로 쌓인 Stacked RNNs 생성\n",
    "stackedRNNs = [lstm_cell() for _ in range(num_stacked_layers)]\n",
    "multi_cells = tf.contrib.rnn.MultiRNNCell(stackedRNNs, state_is_tuple=True) if num_stacked_layers > 1 else lstm_cell()\n",
    "\n",
    "# RNN Cell(여기서는 LSTM셀임)들을 연결\n",
    "hypothesis, _states = tf.nn.dynamic_rnn(multi_cells, X, dtype=tf.float32)\n",
    "print(\"hypothesis: \", hypothesis)\n",
    "\n",
    "# [:, -1]를 잘 살펴보자. LSTM RNN의 마지막 (hidden)출력만을 사용했다.\n",
    "# 과거 여러 거래일의 주가를 이용해서 다음날의 주가 1개를 예측하기때문에 MANY-TO-ONE형태이다\n",
    "hypothesis = tf.contrib.layers.fully_connected(hypothesis[:, -1], output_data_column_cnt, activation_fn=tf.identity)"
   ]
  },
  {
   "cell_type": "code",
   "execution_count": 27,
   "metadata": {},
   "outputs": [],
   "source": [
    "# 손실함수로 평균제곱오차를 사용한다\n",
    "loss = tf.reduce_sum(tf.square(hypothesis - Y))\n",
    "# 최적화함수로 AdamOptimizer를 사용한다\n",
    "optimizer = tf.train.AdamOptimizer(learning_rate)\n",
    "# optimizer = tf.train.RMSPropOptimizer(learning_rate) # LSTM과 궁합 별로임\n",
    "\n",
    "train = optimizer.minimize(loss)\n",
    "\n",
    "# RMSE(Root Mean Square Error)\n",
    "# 제곱오차의 평균을 구하고 다시 제곱근을 구하면 평균 오차가 나온다\n",
    "# rmse = tf.sqrt(tf.reduce_mean(tf.square(targets-predictions))) # 아래 코드와 같다\n",
    "rmse = tf.sqrt(tf.reduce_mean(tf.squared_difference(targets, predictions)))"
   ]
  },
  {
   "cell_type": "code",
   "execution_count": 28,
   "metadata": {},
   "outputs": [
    {
     "name": "stdout",
     "output_type": "stream",
     "text": [
      "학습을 시작합니다...\n",
      "epoch: 100, train_error(A): 0.0008245017961598933, test_error(B): 0.001083195791579783, B-A: 0.0002586939954198897\n",
      "epoch: 200, train_error(A): 0.00047627114690840244, test_error(B): 0.0005687823868356645, B-A: 9.251123992726207e-05\n",
      "epoch: 300, train_error(A): 0.00040412702946923673, test_error(B): 0.0005564855528064072, B-A: 0.00015235852333717048\n",
      "epoch: 400, train_error(A): 0.00033203308703377843, test_error(B): 0.0005469448515214026, B-A: 0.00021491176448762417\n",
      "epoch: 500, train_error(A): 0.00026560734841041267, test_error(B): 0.0005398053908720613, B-A: 0.0002741980424616486\n",
      "epoch: 600, train_error(A): 0.0002083256986225024, test_error(B): 0.0005349518614821136, B-A: 0.00032662617741152644\n",
      "epoch: 700, train_error(A): 0.0001620522962184623, test_error(B): 0.0005319433403201401, B-A: 0.00036989105865359306\n",
      "epoch: 800, train_error(A): 0.0001273658126592636, test_error(B): 0.0005302404169924557, B-A: 0.0004028746043331921\n",
      "epoch: 900, train_error(A): 0.00010368355287937447, test_error(B): 0.0005293480353429914, B-A: 0.00042566447518765926\n",
      "epoch: 1000, train_error(A): 8.925558358896524e-05, test_error(B): 0.0005289805121719837, B-A: 0.0004397249431349337\n",
      "elapsed_time: 0:01:31.900867\n",
      "elapsed_time per epoch: 0:00:00.091901\n"
     ]
    }
   ],
   "source": [
    "train_error_summary = [] # 학습용 데이터의 오류를 중간 중간 기록한다\n",
    "test_error_summary = []  # 테스트용 데이터의 오류를 중간 중간 기록한다\n",
    "test_predict = ''        # 테스트용데이터로 예측한 결과\n",
    "\n",
    "sess = tf.Session()\n",
    "sess.run(tf.global_variables_initializer())\n",
    "\n",
    "# 학습한다\n",
    "start_time = datetime.datetime.now() # 시작시간을 기록한다\n",
    "print('학습을 시작합니다...')\n",
    "for epoch in range(epoch_num):\n",
    "    _, _loss = sess.run([train, loss], feed_dict={X: trainX, Y: trainY})\n",
    "    if ((epoch+1) % 100 == 0) or (epoch == epoch_num-1): # 100번째마다 또는 마지막 epoch인 경우\n",
    "        # 학습용데이터로 rmse오차를 구한다\n",
    "        train_predict = sess.run(hypothesis, feed_dict={X: trainX})\n",
    "        train_error = sess.run(rmse, feed_dict={targets: trainY, predictions: train_predict})\n",
    "        train_error_summary.append(train_error)\n",
    "\n",
    "        # 테스트용데이터로 rmse오차를 구한다\n",
    "        test_predict = sess.run(hypothesis, feed_dict={X: testX})\n",
    "        test_error = sess.run(rmse, feed_dict={targets: testY, predictions: test_predict})\n",
    "        test_error_summary.append(test_error)\n",
    "        \n",
    "        # 현재 오류를 출력한다\n",
    "        print(\"epoch: {}, train_error(A): {}, test_error(B): {}, B-A: {}\".format(epoch+1, train_error, test_error, test_error-train_error))\n",
    "        \n",
    "end_time = datetime.datetime.now() # 종료시간을 기록한다\n",
    "elapsed_time = end_time - start_time # 경과시간을 구한다\n",
    "print('elapsed_time:',elapsed_time)\n",
    "print('elapsed_time per epoch:',elapsed_time/epoch_num)"
   ]
  },
  {
   "cell_type": "code",
   "execution_count": 29,
   "metadata": {},
   "outputs": [
    {
     "name": "stdout",
     "output_type": "stream",
     "text": [
      "input_data_column_cnt: 6,output_data_column_cnt: 1,seq_length: 28,rnn_cell_hidden_dim: 20,forget_bias: 1.0,num_stacked_layers: 2,keep_prob: 1.0,epoch_num: 1000,learning_rate: 0.01,train_error: 8.925558e-05,test_error: 0.0005289805,min_test_error: 0.0005289805\n"
     ]
    },
    {
     "data": {
      "image/png": "[encoded data removed]",
      "text/plain": [
       "<Figure size 432x288 with 1 Axes>"
      ]
     },
     "metadata": {
      "needs_background": "light"
     },
     "output_type": "display_data"
    },
    {
     "data": {
      "image/png": "[encoded data removed]",
      "text/plain": [
       "<Figure size 432x288 with 1 Axes>"
      ]
     },
     "metadata": {
      "needs_background": "light"
     },
     "output_type": "display_data"
    }
   ],
   "source": [
    "# 하이퍼파라미터 출력\n",
    "print('input_data_column_cnt:', input_data_column_cnt, end='')\n",
    "print(',output_data_column_cnt:', output_data_column_cnt, end='')\n",
    "\n",
    "print(',seq_length:', seq_length, end='')\n",
    "print(',rnn_cell_hidden_dim:', rnn_cell_hidden_dim, end='')\n",
    "print(',forget_bias:', forget_bias, end='')\n",
    "print(',num_stacked_layers:', num_stacked_layers, end='')\n",
    "print(',keep_prob:', keep_prob, end='')\n",
    "\n",
    "print(',epoch_num:', epoch_num, end='')\n",
    "print(',learning_rate:', learning_rate, end='')\n",
    "\n",
    "print(',train_error:', train_error_summary[-1], end='')\n",
    "print(',test_error:', test_error_summary[-1], end='')\n",
    "print(',min_test_error:', np.min(test_error_summary))\n",
    "\n",
    "# 결과 그래프 출력\n",
    "plt.figure(1)\n",
    "plt.plot(train_error_summary, 'gold')\n",
    "plt.plot(test_error_summary, 'b')\n",
    "plt.xlabel('Epoch(x100)')\n",
    "plt.ylabel('Root Mean Square Error')\n",
    "\n",
    "plt.figure(2)\n",
    "plt.plot(testY, 'r')\n",
    "plt.plot(test_predict, 'b')\n",
    "plt.xlabel('Time Period')\n",
    "plt.ylabel('Stock Price')\n",
    "plt.show()"
   ]
  },
  {
   "cell_type": "code",
   "execution_count": 30,
   "metadata": {},
   "outputs": [
    {
     "name": "stdout",
     "output_type": "stream",
     "text": [
      "recent_data.shape: (1, 28, 6)\n",
      "recent_data: [[[0.50523812 0.45051318 0.60935402 0.45613192 0.50615914 0.04324511]\n",
      "  [0.50523812 0.36675284 0.69375033 0.46317209 0.50619551 0.06682635]\n",
      "  [0.50523812 0.43946873 0.66905674 0.41276487 0.50620193 0.05277901]\n",
      "  [0.50523812 0.46650724 0.59186151 0.46190058 0.50621156 0.04754801]\n",
      "  [0.50523812 0.42969609 0.59472789 0.49298947 0.50623081 0.05133356]\n",
      "  [0.50523812 0.45860976 0.62573022 0.43237831 0.50622547 0.06340064]\n",
      "  [0.50523812 0.46802418 0.56863644 0.48004724 0.50622974 0.04056152]\n",
      "  [0.50523812 0.50300304 0.53517416 0.47843033 0.50622653 0.04654217]\n",
      "  [0.50523812 0.52169262 0.47627002 0.51978631 0.50619658 0.03720909]\n",
      "  [0.50523812 0.49646302 0.5152126  0.50423503 0.50620086 0.03262246]\n",
      "  [0.50523812 0.47197835 0.54550832 0.49789193 0.50622333 0.0386611 ]\n",
      "  [0.50523812 0.48835325 0.50922608 0.51790209 0.50622653 0.03313472]\n",
      "  [0.50523812 0.41571313 0.57040757 0.52614678 0.50625435 0.05061033]\n",
      "  [0.50523812 0.54832509 0.47761039 0.48720692 0.50622333 0.03094985]\n",
      "  [0.50523812 0.50549312 0.49429193 0.51608427 0.50622653 0.02399751]\n",
      "  [0.50523812 0.50947868 0.49201571 0.51426327 0.50622119 0.01976809]\n",
      "  [0.50523812 0.45282263 0.57146353 0.49186114 0.50624151 0.03374167]\n",
      "  [0.50523812 0.49887551 0.54284927 0.4726146  0.50624258 0.02549383]\n",
      "  [0.50523812 0.48809318 0.51942    0.50601469 0.50624686 0.02022078]\n",
      "  [0.50523812 0.47708775 0.53512915 0.50417459 0.50625114 0.02194776]\n",
      "  [0.50523812 0.51875692 0.51781628 0.47917534 0.5062383  0.02341637]\n",
      "  [0.50523812 0.50118136 0.50735269 0.50496639 0.5062383  0.02359133]\n",
      "  [0.50523812 0.54466164 0.46367889 0.50759831 0.506203   0.06911337]\n",
      "  [0.50523812 0.52512163 0.46091754 0.5268839  0.50619765 0.03790506]\n",
      "  [0.50523812 0.52579583 0.4814429  0.50836541 0.50618482 0.03111923]\n",
      "  [0.50523812 0.50503158 0.51510807 0.4888794  0.50617947 0.02991737]\n",
      "  [0.50523812 0.50247304 0.50552619 0.50782608 0.50618909 0.03240167]\n",
      "  [0.50523812 0.51747785 0.48986987 0.50968894 0.50617519 0.02266429]]]\n",
      "test_predict [0.5053247]\n",
      "Tomorrow's stock price [4050.]\n"
     ]
    }
   ],
   "source": [
    "# sequence length만큼의 가장 최근 데이터를 슬라이싱한다\n",
    "recent_data = np.array([x[len(x)-seq_length : ]])\n",
    "print(\"recent_data.shape:\", recent_data.shape)\n",
    "print(\"recent_data:\", recent_data)\n",
    "\n",
    "# 내일 종가를 예측해본다\n",
    "test_predict = sess.run(hypothesis, feed_dict={X: recent_data})\n",
    "\n",
    "print(\"test_predict\", test_predict[0])\n",
    "test_predict = reverse_min_max_scaling(price,test_predict) # 금액데이터 역정규화한다\n",
    "print(\"Tomorrow's stock price\", test_predict[0]) # 예측한 주가를 출력한다"
   ]
  },
  {
   "cell_type": "code",
   "execution_count": 26,
   "metadata": {},
   "outputs": [
    {
     "data": {
      "text/plain": [
       "[name: \"/device:CPU:0\"\n",
       " device_type: \"CPU\"\n",
       " memory_limit: 268435456\n",
       " locality {\n",
       " }\n",
       " incarnation: 14404470174000692040, name: \"/device:GPU:0\"\n",
       " device_type: \"GPU\"\n",
       " memory_limit: 3195178188\n",
       " locality {\n",
       "   bus_id: 1\n",
       "   links {\n",
       "   }\n",
       " }\n",
       " incarnation: 16346328665903781560\n",
       " physical_device_desc: \"device: 0, name: GeForce GTX 960, pci bus id: 0000:01:00.0, compute capability: 5.2\"]"
      ]
     },
     "execution_count": 26,
     "metadata": {},
     "output_type": "execute_result"
    }
   ],
   "source": [
    "from tensorflow.python.client import device_lib\n",
    "device_lib.list_local_devices()\n"
   ]
  },
  {
   "cell_type": "code",
   "execution_count": null,
   "metadata": {},
   "outputs": [],
   "source": []
  }
 ],
 "metadata": {
  "kernelspec": {
   "display_name": "Python 3",
   "language": "python",
   "name": "python3"
  },
  "language_info": {
   "codemirror_mode": {
    "name": "ipython",
    "version": 3
   },
   "file_extension": ".py",
   "mimetype": "text/x-python",
   "name": "python",
   "nbconvert_exporter": "python",
   "pygments_lexer": "ipython3",
   "version": "3.7.3"
  }
 },
 "nbformat": 4,
 "nbformat_minor": 2
}
